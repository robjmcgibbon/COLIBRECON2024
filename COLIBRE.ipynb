{
 "cells": [
  {
   "cell_type": "code",
   "execution_count": 65,
   "id": "9453a7a2-5881-48b0-b59f-8a39efa8ed35",
   "metadata": {},
   "outputs": [],
   "source": [
    "import os\n",
    "\n",
    "import matplotlib.pyplot as plot\n",
    "import swiftsimio as sw\n",
    "from swiftsimio.objects import InvalidConversionError"
   ]
  },
  {
   "cell_type": "markdown",
   "id": "3e38112a-9bfc-4820-a503-a939c39f9eff",
   "metadata": {},
   "source": [
    "# Simulation directory structure\n",
    "\n",
    "Before we start looking at the data let's take a quick look at how everything is stored.\n",
    "\n",
    "All simulations are kept at `/cosma8/data/dp004/colibre/Runs`. Here you will see a collection of directories with names of the form `LXXXXNYYYY`. The value of `XXXX` corresponds to the simulation box side length in comoving Mpc, and the value of `YYYY` is the number of gas particles per linear dimension. Each simulation has four times as many dark matter particles as gas. We will use one of the `L0025N0376` simulations, meaning they have a volume of $(25\\mathrm{Mpc})^3$, $376^3$ gas particles, and $4 \\times 376^3$ dark matter particles.\n",
    "\n",
    "For each box size and resolution we have a multiple simulations. Each of these has a different set of subgrid models (the way we include physical processes in the simulation, e.g. black hole feedback). For this notebook we will use the `Fiducial_test` simulation.\n",
    "\n",
    "Let's list what's present inside the simulation directory:"
   ]
  },
  {
   "cell_type": "code",
   "execution_count": 11,
   "id": "646fffc9-3b5d-433d-8c86-86d3354d3fc5",
   "metadata": {},
   "outputs": [
    {
     "name": "stdout",
     "output_type": "stream",
     "text": [
      "colibre_L025N0376.yml\t pipeline_output\t  SNII.txt\n",
      "colibre.xmf\t\t rank_cpu_balance.log\t  SOAP\n",
      "data_0123.yml\t\t rank_hostname.log\t  statistics.txt\n",
      "dependency_graph_-1.csv  rank_memory_balance.log  submit.slurm\n",
      "HBTplus\t\t\t resub.sh\t\t  swift-colibre\n",
      "logs\t\t\t resub.slurm\t\t  task_level_0000_-1.txt\n",
      "output_fields.yml\t r_processes.txt\t  timesteps.txt\n",
      "output_list_ps.txt\t SFR.txt\t\t  unused_parameters.yml\n",
      "output_list.txt\t\t snapshots\t\t  used_parameters\n",
      "partition_fixed_costs.h  SNIa.txt\n"
     ]
    }
   ],
   "source": [
    "!ls /cosma8/data/dp004/colibre/Runs/L0025N0376/Fiducial_test"
   ]
  },
  {
   "cell_type": "markdown",
   "id": "4442bf04-0bc3-4db2-9fd2-a53b0a3932dc",
   "metadata": {},
   "source": [
    "You probably don't won't ever need to look at most of these files. The most important files/directories (which we'll look at below) are:\n",
    "- `snapshots` This directory contains the particles and their properties output by the simulation at different times\n",
    "- `SOAP` This directory contains the halo catalogues\n",
    "- `HBTplus` This directory contains the full halo merger tree information for the simulation\n",
    "- `output_list.txt` This file lists the redshifts at which snapshots have been created\n",
    "\n",
    "Let's print the first few lines of `output_list.txt` "
   ]
  },
  {
   "cell_type": "code",
   "execution_count": 15,
   "id": "b966afb4-52e8-44a9-a279-353e04205d79",
   "metadata": {},
   "outputs": [
    {
     "name": "stdout",
     "output_type": "stream",
     "text": [
      "# Redshift, Select Output\n",
      "30.000000, Snapshot\n",
      "25.000000, Snipshot\n",
      "22.500000, Snipshot\n",
      "20.000000, Snapshot\n"
     ]
    }
   ],
   "source": [
    "!head -5 /cosma8/data/dp004/colibre/Runs/L0025N0376/Fiducial_test/output_list.txt"
   ]
  },
  {
   "cell_type": "markdown",
   "id": "523406fa-0717-493c-9364-72ac4387f492",
   "metadata": {},
   "source": [
    "We can see that the first snapshot (`snap_nr=0` since the files are 0-indexed) corresponds to `z=30`. If we want the `z=20` snapshot we will need to load `snap_nr=3`.\n",
    "\n",
    "For some redshifts we output all the particle properties. For others we output a reduced file with significantly less properties, which are called snipshots."
   ]
  },
  {
   "cell_type": "markdown",
   "id": "f53ad4da-c93c-4fe3-ba52-12ff1bc078fe",
   "metadata": {},
   "source": [
    "# Snapshots\n",
    "\n",
    "Analysis of SWIFT snapshots should be carried out using [swiftsimio](https://swiftsimio.readthedocs.io/en/latest/index.html). This ensures that all units will be handled correctly (internal cosmological simulation units can be strange), and contains a lot of useful functionality for working with the files.\n",
    "\n",
    "\n",
    "Within the `snapshots` directory there is a directory for each snapshot. Each of these contains a number of \"chunk\" files, named `colibre_xxxx.y.hdf5`. There is also a virtual file named `colibre_xxxx.hdf5`. **You should always load the virtual file rather than the chunk files**. Each chunk file only contains a subset of the total number of particles in the simulation, but if you use the virtual file you will have access to all the particles. Even if you only want to load a small region of the simulation you should use the virtual file combined with swiftsimio's masking ability (see below).\n",
    "\n",
    "We begin by loading the `z=1` snapshot."
   ]
  },
  {
   "cell_type": "code",
   "execution_count": 38,
   "id": "0ef13c26-f6e8-45f3-a869-b2c065fd4acf",
   "metadata": {},
   "outputs": [],
   "source": [
    "simulation_dir = \"/cosma8/data/dp004/colibre/Runs/L0025N0376/Fiducial_test\"\n",
    "# For this test run we only had 124 snapshots, but all the main simulations have 128 snapshots, so double-check you have the correct snapshot.\n",
    "snap_nr = 88\n",
    "snapshot_filename = f\"{simulation_dir}/snapshots/colibre_{snap_nr:04}/colibre_{snap_nr:04}.hdf5\"\n",
    "snap = sw.load(snapshot_filename)"
   ]
  },
  {
   "cell_type": "markdown",
   "id": "f29fef9d-17a2-4a47-b1c4-83910b73ba60",
   "metadata": {},
   "source": [
    "Basic information about the simulation can be accessed through the metadata attribute"
   ]
  },
  {
   "cell_type": "code",
   "execution_count": 43,
   "id": "a4dd7cc9-4e7f-4a98-a6f4-31dead462051",
   "metadata": {},
   "outputs": [
    {
     "name": "stdout",
     "output_type": "stream",
     "text": [
      "Boxsize: [25.00000001 25.00000001 25.00000001] Mpc\n",
      "Redshift: 1.0\n",
      "Omega_lambda [0.256011]\n",
      "Number of gas particles: 50971999\n"
     ]
    }
   ],
   "source": [
    "print(f\"Boxsize: {snap.metadata.boxsize}\")\n",
    "print(f\"Redshift: {snap.metadata.redshift}\")\n",
    "print(f\"Omega_lambda {snap.metadata.cosmology['Omega_cdm']}\")\n",
    "print(f\"Number of gas particles: {snap.metadata.n_gas}\")"
   ]
  },
  {
   "cell_type": "markdown",
   "id": "cf8eeba5-4b11-4821-bbf0-4029dc852ea5",
   "metadata": {},
   "source": [
    "All the gas particle properties are contained within `snap.gas` (likewise for `snap.dark_matter`, `snap.stars`, `snap.black_holes`). For example the mass of the gas particles"
   ]
  },
  {
   "cell_type": "code",
   "execution_count": 46,
   "id": "34165776-d441-4148-a1e0-08cc180b29a3",
   "metadata": {},
   "outputs": [
    {
     "name": "stdout",
     "output_type": "stream",
     "text": [
      "[0.00019066 0.00019555 0.00018962 ... 0.00018733 0.00019002 0.00018751] 10000000000.0*Msun (Comoving)\n",
      "(50971999,)\n"
     ]
    }
   ],
   "source": [
    "print(snap.gas.masses)\n",
    "print(snap.gas.masses.shape)"
   ]
  },
  {
   "cell_type": "markdown",
   "id": "947af283-2f09-44cd-9d0f-a82b9d1a13c4",
   "metadata": {},
   "source": [
    "You can find out what properties are available by using tab completion. A list of the properties present in the snapshots/snipshots can be found in the `output_fields.yml` file, along with a short description of the property. The property descriptions can also be accessed from the swiftsimio object."
   ]
  },
  {
   "cell_type": "code",
   "execution_count": 35,
   "id": "41396f1a-31c6-4a58-b2d2-2453cec64559",
   "metadata": {},
   "outputs": [
    {
     "name": "stdout",
     "output_type": "stream",
     "text": [
      "The energy the particles received the last time they were heated by AGN feedback. Not masked.\n"
     ]
    }
   ],
   "source": [
    "print(snap.gas.last_energies_received_from_agnfeedback.name)"
   ]
  },
  {
   "cell_type": "markdown",
   "id": "18e218cd-3d61-40ca-818f-7689c3421a88",
   "metadata": {},
   "source": [
    "Each dataset has units associated with them that are automatically read in from the snapshot. Data is initially loaded in the simulation units, but it is easy to convert to your unit of choice.\n",
    "\n",
    "**Specify the units you want, don't assume the datasets have the units you expect**"
   ]
  },
  {
   "cell_type": "code",
   "execution_count": 45,
   "id": "9e8cb1b9-19be-452c-8043-74e5d5cf255b",
   "metadata": {},
   "outputs": [
    {
     "name": "stdout",
     "output_type": "stream",
     "text": [
      "[6.280249  6.291265  6.2778854 ... 6.2726173 6.2788067 6.2730255]\n"
     ]
    }
   ],
   "source": [
    "mass_msun = snap.gas.masses.to(\"Msun\")\n",
    "print(np.log10(mass_msun))"
   ]
  },
  {
   "cell_type": "markdown",
   "id": "fc5f5c40-591d-4140-a392-849063393de7",
   "metadata": {},
   "source": [
    "Swiftsimio will automatically combine units for you, and will throw an error if you try and combine datasets in an inconsistent way"
   ]
  },
  {
   "cell_type": "code",
   "execution_count": 54,
   "id": "0446fe5f-7a20-4a28-98a3-fcd7bd150aa8",
   "metadata": {},
   "outputs": [
    {
     "name": "stdout",
     "output_type": "stream",
     "text": [
      "Volume: [0.00295246 0.00265667 0.00187379 ... 0.0007878  0.0006287  0.00054782] Mpc**3 (Comoving)\n",
      "You can't do that!\n"
     ]
    }
   ],
   "source": [
    "volume = snap.gas.masses / snap.gas.densities\n",
    "print(\"Volume:\", volume)\n",
    "\n",
    "try:\n",
    "    snap.gas.masses + snap.gas.densities\n",
    "except ValueError:\n",
    "    print(\"You can't combine those!\")"
   ]
  },
  {
   "cell_type": "markdown",
   "id": "4b2b9793-84ae-4c10-946b-215918e9ed20",
   "metadata": {},
   "source": [
    "Properties are stored as co-moving quantities. This means you may need to convert them to physical depending on your use case"
   ]
  },
  {
   "cell_type": "code",
   "execution_count": 57,
   "id": "e05ec976-884a-4f11-b383-2152a2b53fd2",
   "metadata": {},
   "outputs": [
    {
     "name": "stdout",
     "output_type": "stream",
     "text": [
      "Comoving positions\n"
     ]
    },
    {
     "data": {
      "text/plain": [
       "cosmo_array([[0.2611892, 0.0491192, 7.8849302],\n",
       "       [0.1353292, 0.0343112, 8.1291142],\n",
       "       [0.2246172, 0.3370582, 8.1658752],\n",
       "       [0.0839512, 0.2286102, 8.1874442],\n",
       "       [0.2007642, 0.3070582, 8.0156952],\n",
       "       [0.1674202, 0.2194162, 8.0857712],\n",
       "       [0.3428662, 0.2435992, 8.1275442],\n",
       "       [0.1757712, 0.2412162, 7.8746612],\n",
       "       [0.2978952, 0.1163872, 8.0569282],\n",
       "       [0.0676302, 0.2984932, 8.1075112]], 'Mpc', comoving=True)"
      ]
     },
     "execution_count": 57,
     "metadata": {},
     "output_type": "execute_result"
    }
   ],
   "source": [
    "print(\"Comoving positions\")\n",
    "snap.gas.coordinates[:10]"
   ]
  },
  {
   "cell_type": "code",
   "execution_count": 58,
   "id": "ea676707-e8e2-4b18-8882-8505f4b2a7fd",
   "metadata": {},
   "outputs": [
    {
     "name": "stdout",
     "output_type": "stream",
     "text": [
      "Physical positions\n"
     ]
    },
    {
     "data": {
      "text/plain": [
       "cosmo_array([[0.1305946, 0.0245596, 3.9424651],\n",
       "       [0.0676646, 0.0171556, 4.0645571],\n",
       "       [0.1123086, 0.1685291, 4.0829376],\n",
       "       [0.0419756, 0.1143051, 4.0937221],\n",
       "       [0.1003821, 0.1535291, 4.0078476],\n",
       "       [0.0837101, 0.1097081, 4.0428856],\n",
       "       [0.1714331, 0.1217996, 4.0637721],\n",
       "       [0.0878856, 0.1206081, 3.9373306],\n",
       "       [0.1489476, 0.0581936, 4.0284641],\n",
       "       [0.0338151, 0.1492466, 4.0537556]], 'Mpc', comoving=False)"
      ]
     },
     "execution_count": 58,
     "metadata": {},
     "output_type": "execute_result"
    }
   ],
   "source": [
    "print(\"Physical positions\")\n",
    "snap.gas.coordinates[:10].to_physical()"
   ]
  },
  {
   "cell_type": "markdown",
   "id": "5237a88e-912b-4cd3-9b2d-8f2ac489708d",
   "metadata": {},
   "source": [
    "Some properties (for which it does not make sense to refer to as comoving) cannot be converted. This can be checked with the `valid_transform` attribute."
   ]
  },
  {
   "cell_type": "code",
   "execution_count": 66,
   "id": "3840de05-e0cc-4c51-9292-a1dcb655a616",
   "metadata": {},
   "outputs": [
    {
     "name": "stdout",
     "output_type": "stream",
     "text": [
      "Coordinates have valid transform? True\n",
      "Coordinate have valid transform? False\n",
      "You can't transform that!\n"
     ]
    }
   ],
   "source": [
    "print('Coordinates have valid transform?', snap.gas.coordinates.valid_transform)\n",
    "print('Coordinate have valid transform?', snap.gas.last_agnfeedback_scale_factors.valid_transform)\n",
    "\n",
    "try:\n",
    "    snap.gas.last_agnfeedback_scale_factors.to_comoving()\n",
    "except InvalidConversionError:\n",
    "    print(\"You can't transform that!\")"
   ]
  },
  {
   "cell_type": "markdown",
   "id": "31e79937-868e-4395-8d1c-59b3e5f656cc",
   "metadata": {},
   "source": [
    "If you need a numpy array of the dataset, use `.value`"
   ]
  },
  {
   "cell_type": "code",
   "execution_count": 68,
   "id": "b3ece5b0-c475-4c1b-b8a3-cb7dac164c07",
   "metadata": {},
   "outputs": [
    {
     "data": {
      "text/plain": [
       "array([[ 0.2611892 ,  0.0491192 ,  7.8849302 ],\n",
       "       [ 0.1353292 ,  0.0343112 ,  8.1291142 ],\n",
       "       [ 0.2246172 ,  0.3370582 ,  8.1658752 ],\n",
       "       ...,\n",
       "       [24.91037948, 24.90664348, 18.72689548],\n",
       "       [24.81210748, 24.88645748, 18.65617348],\n",
       "       [24.94263648, 24.98478748, 18.65686148]])"
      ]
     },
     "execution_count": 68,
     "metadata": {},
     "output_type": "execute_result"
    }
   ],
   "source": [
    "snap.gas.coordinates.value"
   ]
  },
  {
   "cell_type": "code",
   "execution_count": null,
   "id": "3b467acd-c74e-4d7e-ac96-a1c07971a402",
   "metadata": {},
   "outputs": [],
   "source": []
  },
  {
   "cell_type": "code",
   "execution_count": null,
   "id": "3b46bb58-90af-42bf-b88c-41aab734b66b",
   "metadata": {},
   "outputs": [],
   "source": []
  },
  {
   "cell_type": "code",
   "execution_count": null,
   "id": "09ca0cce-9f24-44b9-9699-af920de52e70",
   "metadata": {},
   "outputs": [],
   "source": []
  },
  {
   "cell_type": "code",
   "execution_count": null,
   "id": "05a70cee-6356-42ed-8a7f-6e28f34824e9",
   "metadata": {},
   "outputs": [],
   "source": []
  },
  {
   "cell_type": "code",
   "execution_count": null,
   "id": "0107ae85-2aee-44e1-af93-43a10012825b",
   "metadata": {},
   "outputs": [],
   "source": []
  },
  {
   "cell_type": "code",
   "execution_count": null,
   "id": "6855224a-2cb6-4436-9927-5fc4fab1ddb4",
   "metadata": {},
   "outputs": [],
   "source": []
  },
  {
   "cell_type": "code",
   "execution_count": null,
   "id": "f405327d-4fea-4069-a154-e6052527d7a7",
   "metadata": {},
   "outputs": [],
   "source": [
    "- Visualising volume (for environment)"
   ]
  },
  {
   "cell_type": "code",
   "execution_count": 8,
   "id": "2e66ad78-3534-4eca-b19b-6f19a1d4b3e3",
   "metadata": {},
   "outputs": [
    {
     "ename": "SyntaxError",
     "evalue": "invalid syntax. Perhaps you forgot a comma? (4239921561.py, line 1)",
     "output_type": "error",
     "traceback": [
      "\u001b[0;36m  Cell \u001b[0;32mIn[8], line 1\u001b[0;36m\u001b[0m\n\u001b[0;31m    Masking (summary swift output structure)\u001b[0m\n\u001b[0m             ^\u001b[0m\n\u001b[0;31mSyntaxError\u001b[0m\u001b[0;31m:\u001b[0m invalid syntax. Perhaps you forgot a comma?\n"
     ]
    }
   ],
   "source": [
    "Masking (summary swift output structure)"
   ]
  },
  {
   "cell_type": "markdown",
   "id": "2e6e5ec1-90e8-426c-9a02-5c3080359cad",
   "metadata": {},
   "source": [
    "# SOAP\n",
    "\n",
    "Link to current SOAP pdf\n",
    "\n",
    "Tell us what properties you want"
   ]
  },
  {
   "cell_type": "code",
   "execution_count": 6,
   "id": "6e4a9fd7-6d77-4c88-93fb-2a1b4efcb8c0",
   "metadata": {},
   "outputs": [
    {
     "ename": "SyntaxError",
     "evalue": "invalid syntax (1570704140.py, line 1)",
     "output_type": "error",
     "traceback": [
      "\u001b[0;36m  Cell \u001b[0;32mIn[6], line 1\u001b[0;36m\u001b[0m\n\u001b[0;31m    Datasets from pipeline, how to use\u001b[0m\n\u001b[0m             ^\u001b[0m\n\u001b[0;31mSyntaxError\u001b[0m\u001b[0;31m:\u001b[0m invalid syntax\n"
     ]
    }
   ],
   "source": [
    "Datasets from pipeline, how to use"
   ]
  },
  {
   "cell_type": "code",
   "execution_count": null,
   "id": "f106ed59-e559-4366-ac09-800205fd5dd5",
   "metadata": {},
   "outputs": [],
   "source": []
  },
  {
   "cell_type": "code",
   "execution_count": 4,
   "id": "43f2e8a1-8801-4a29-a5b1-d08804cd55b0",
   "metadata": {},
   "outputs": [
    {
     "ename": "SyntaxError",
     "evalue": "invalid syntax (1626685914.py, line 1)",
     "output_type": "error",
     "traceback": [
      "\u001b[0;36m  Cell \u001b[0;32mIn[4], line 1\u001b[0;36m\u001b[0m\n\u001b[0;31m    Reproduce pipeline plot\u001b[0m\n\u001b[0m              ^\u001b[0m\n\u001b[0;31mSyntaxError\u001b[0m\u001b[0;31m:\u001b[0m invalid syntax\n"
     ]
    }
   ],
   "source": [
    "Reproduce pipeline plot"
   ]
  },
  {
   "cell_type": "code",
   "execution_count": 5,
   "id": "5173e220-1e7f-4658-8ee9-5d04e82b6a0a",
   "metadata": {},
   "outputs": [
    {
     "name": "stdout",
     "output_type": "stream",
     "text": [
      "Object `writing` not found.\n"
     ]
    }
   ],
   "source": [
    "Subset writing?"
   ]
  },
  {
   "cell_type": "markdown",
   "id": "95f616de-e4f5-41a0-9954-df1e6846ec6f",
   "metadata": {},
   "source": [
    "# Merger trees"
   ]
  },
  {
   "cell_type": "code",
   "execution_count": null,
   "id": "dfdb69d9-8427-4606-9f2e-22649316ea2a",
   "metadata": {},
   "outputs": [],
   "source": []
  },
  {
   "cell_type": "code",
   "execution_count": null,
   "id": "7ee46e18-a65c-4698-b623-f2d415e9be6e",
   "metadata": {},
   "outputs": [],
   "source": []
  },
  {
   "cell_type": "markdown",
   "id": "37be5032-9190-49ed-815a-264191214464",
   "metadata": {},
   "source": [
    "# SWIFT galaxy"
   ]
  },
  {
   "cell_type": "code",
   "execution_count": 2,
   "id": "c8fb88c2-4e96-436a-b1ee-086dfc74b004",
   "metadata": {},
   "outputs": [
    {
     "ename": "SyntaxError",
     "evalue": "invalid syntax (396452833.py, line 1)",
     "output_type": "error",
     "traceback": [
      "\u001b[0;36m  Cell \u001b[0;32mIn[2], line 1\u001b[0;36m\u001b[0m\n\u001b[0;31m    Membership files\u001b[0m\n\u001b[0m               ^\u001b[0m\n\u001b[0;31mSyntaxError\u001b[0m\u001b[0;31m:\u001b[0m invalid syntax\n"
     ]
    }
   ],
   "source": [
    "Membership files"
   ]
  },
  {
   "cell_type": "code",
   "execution_count": null,
   "id": "73554fc8-806e-4423-9d4c-1144699ef741",
   "metadata": {},
   "outputs": [],
   "source": [
    "- Visualising objects"
   ]
  }
 ],
 "metadata": {
  "kernelspec": {
   "display_name": "test3",
   "language": "python",
   "name": "test3"
  },
  "language_info": {
   "codemirror_mode": {
    "name": "ipython",
    "version": 3
   },
   "file_extension": ".py",
   "mimetype": "text/x-python",
   "name": "python",
   "nbconvert_exporter": "python",
   "pygments_lexer": "ipython3",
   "version": "3.12.4"
  }
 },
 "nbformat": 4,
 "nbformat_minor": 5
}
