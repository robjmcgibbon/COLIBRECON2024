{
 "cells": [
  {
   "cell_type": "code",
   "execution_count": 9,
   "id": "9453a7a2-5881-48b0-b59f-8a39efa8ed35",
   "metadata": {},
   "outputs": [],
   "source": [
    "import os\n",
    "\n",
    "import matplotlib.pyplot as plot\n",
    "import swiftsimio"
   ]
  },
  {
   "cell_type": "markdown",
   "id": "3e38112a-9bfc-4820-a503-a939c39f9eff",
   "metadata": {},
   "source": [
    "# Simulation directory structure\n",
    "\n",
    "Before we start looking at the data let's take a quick look at how everything is stored.\n",
    "\n",
    "All simulations are kept at `/cosma8/data/dp004/colibre/Runs`. Here you will see a collection of directories with names of the form `LXXXXNYYYY`. The value of `XXXX` corresponds to the simulation box side length in comoving Mpc, and the value of `YYYY` is the number of gas particles per linear dimension. Each simulation has four times as many dark matter particles as gas. We will use one of the `L0025N0376` simulations, meaning they have a volume of $(25\\mathrm{Mpc})^3$, $376^3$ gas particles, and $4 \\times 376^3$ dark matter particles.\n",
    "\n",
    "For each box size and resolution we have a multiple simulations. Each of these has a different set of subgrid models (the way we include physical processes in the simulation, e.g. black hole feedback). For this notebook we will use the `Fiducial_test` simulation.\n",
    "\n",
    "Let's list what's present inside the simulation directory:"
   ]
  },
  {
   "cell_type": "code",
   "execution_count": 11,
   "id": "646fffc9-3b5d-433d-8c86-86d3354d3fc5",
   "metadata": {},
   "outputs": [
    {
     "name": "stdout",
     "output_type": "stream",
     "text": [
      "colibre_L025N0376.yml\t pipeline_output\t  SNII.txt\n",
      "colibre.xmf\t\t rank_cpu_balance.log\t  SOAP\n",
      "data_0123.yml\t\t rank_hostname.log\t  statistics.txt\n",
      "dependency_graph_-1.csv  rank_memory_balance.log  submit.slurm\n",
      "HBTplus\t\t\t resub.sh\t\t  swift-colibre\n",
      "logs\t\t\t resub.slurm\t\t  task_level_0000_-1.txt\n",
      "output_fields.yml\t r_processes.txt\t  timesteps.txt\n",
      "output_list_ps.txt\t SFR.txt\t\t  unused_parameters.yml\n",
      "output_list.txt\t\t snapshots\t\t  used_parameters\n",
      "partition_fixed_costs.h  SNIa.txt\n"
     ]
    }
   ],
   "source": [
    "!ls /cosma8/data/dp004/colibre/Runs/L0025N0376/Fiducial_test"
   ]
  },
  {
   "cell_type": "markdown",
   "id": "4442bf04-0bc3-4db2-9fd2-a53b0a3932dc",
   "metadata": {},
   "source": [
    "You probably don't won't ever need to look at most of these files. The most important files/directories (which we'll look at below) are:\n",
    "- `snapshots` This directory contains the particles and their properties output by the simulation at different times\n",
    "- `SOAP` This directory contains the halo catalogues\n",
    "- `HBTplus` This directory contains the full halo merger tree information for the simulation\n",
    "- `output_list.txt` This file lists the redshifts at which snapshots have been created\n",
    "\n",
    "Let's print the first few lines of `output_list.txt` "
   ]
  },
  {
   "cell_type": "code",
   "execution_count": 15,
   "id": "b966afb4-52e8-44a9-a279-353e04205d79",
   "metadata": {},
   "outputs": [
    {
     "name": "stdout",
     "output_type": "stream",
     "text": [
      "# Redshift, Select Output\n",
      "30.000000, Snapshot\n",
      "25.000000, Snipshot\n",
      "22.500000, Snipshot\n",
      "20.000000, Snapshot\n"
     ]
    }
   ],
   "source": [
    "!head -5 /cosma8/data/dp004/colibre/Runs/L0025N0376/Fiducial_test/output_list.txt"
   ]
  },
  {
   "cell_type": "markdown",
   "id": "523406fa-0717-493c-9364-72ac4387f492",
   "metadata": {},
   "source": [
    "We can see that the first snapshot (`snap_nr=0` since the files are 0-indexed) corresponds to `z=30`. If we want the `z=20` snapshot we will need to load `snap_nr=3`.\n",
    "\n",
    "For some redshifts we output all the particle properties. For others we output a reduced file with significantly less properties, which are called snipshots."
   ]
  },
  {
   "cell_type": "code",
   "execution_count": null,
   "id": "80ef6046-d612-4a24-85f7-1b8eff879310",
   "metadata": {},
   "outputs": [],
   "source": []
  },
  {
   "cell_type": "markdown",
   "id": "f53ad4da-c93c-4fe3-ba52-12ff1bc078fe",
   "metadata": {},
   "source": [
    "# Snapshots\n",
    "\n",
    "Analysis of SWIFT snapshots should be carried out using [swiftsimio](https://swiftsimio.readthedocs.io/en/latest/index.html). This ensures that all units will be handled correctly (internal cosmological simulation units can be strange), and contains a lot of useful functionality for working with the files.\n",
    "\n",
    "\n",
    "Within the `snapshots` directory there is a directory for each snapshot. Each of these contains a number of \"chunk\" files, named `colibre_xxxx.y.hdf5`. There is also a virtual file called \"colibre_xxxx.hdf5\". **You should always load the virtual file rather than the chunk files**. Each chunk file only contains particles of a certain region of a simulation, but if you use the virtual file you will have access to all the particles. Even if you only want to load a small region of the simulation you should use the virtual file combined with swiftsimio's masking ability (see below)."
   ]
  },
  {
   "cell_type": "code",
   "execution_count": null,
   "id": "204b2ea2-fa97-4b82-94bc-3b92b54cc8d2",
   "metadata": {},
   "outputs": [],
   "source": []
  },
  {
   "cell_type": "code",
   "execution_count": null,
   "id": "b4ab4d81-e9f7-4b23-9456-877fdbde1b48",
   "metadata": {},
   "outputs": [],
   "source": []
  },
  {
   "cell_type": "code",
   "execution_count": null,
   "id": "8cf68f26-29c3-42b9-b274-a2117f243027",
   "metadata": {},
   "outputs": [],
   "source": []
  },
  {
   "cell_type": "code",
   "execution_count": 12,
   "id": "0ef13c26-f6e8-45f3-a869-b2c065fd4acf",
   "metadata": {},
   "outputs": [],
   "source": [
    "simulation_dir = \"/cosma8/data/dp004/colibre/Runs/L0025N0376/Fiducial_test\"\n",
    "# For this test run we only had 124 snapshots, but all the main simulations have 128 snapshots\n",
    "snap_nr = 123\n"
   ]
  },
  {
   "cell_type": "code",
   "execution_count": null,
   "id": "9f1c021a-a051-4633-9f41-d0f50043b3f8",
   "metadata": {},
   "outputs": [],
   "source": [
    "Virtual files\n",
    "\n",
    "output_list.txt"
   ]
  },
  {
   "cell_type": "code",
   "execution_count": null,
   "id": "ee139aae-272b-43f8-a14c-f3c5d2122972",
   "metadata": {},
   "outputs": [],
   "source": [
    "output_fields.yml, data also available in swiftsimio"
   ]
  },
  {
   "cell_type": "code",
   "execution_count": null,
   "id": "f405327d-4fea-4069-a154-e6052527d7a7",
   "metadata": {},
   "outputs": [],
   "source": [
    "- Visualising volume (for environment)"
   ]
  },
  {
   "cell_type": "code",
   "execution_count": 2,
   "id": "46e17a3d-7c8d-479f-bebb-f4a9f30f06b7",
   "metadata": {},
   "outputs": [
    {
     "ename": "SyntaxError",
     "evalue": "invalid syntax (1399047486.py, line 1)",
     "output_type": "error",
     "traceback": [
      "\u001b[0;36m  Cell \u001b[0;32mIn[2], line 1\u001b[0;36m\u001b[0m\n\u001b[0;31m    - SOAP pdf\u001b[0m\n\u001b[0m           ^\u001b[0m\n\u001b[0;31mSyntaxError\u001b[0m\u001b[0;31m:\u001b[0m invalid syntax\n"
     ]
    }
   ],
   "source": [
    "- Units\n",
    "\n",
    "- Comoving vs physical\n",
    "\n",
    "- Invalid ConversionError (workaround)"
   ]
  },
  {
   "cell_type": "code",
   "execution_count": 8,
   "id": "2e66ad78-3534-4eca-b19b-6f19a1d4b3e3",
   "metadata": {},
   "outputs": [
    {
     "ename": "SyntaxError",
     "evalue": "invalid syntax. Perhaps you forgot a comma? (4239921561.py, line 1)",
     "output_type": "error",
     "traceback": [
      "\u001b[0;36m  Cell \u001b[0;32mIn[8], line 1\u001b[0;36m\u001b[0m\n\u001b[0;31m    Masking (summary swift output structure)\u001b[0m\n\u001b[0m             ^\u001b[0m\n\u001b[0;31mSyntaxError\u001b[0m\u001b[0;31m:\u001b[0m invalid syntax. Perhaps you forgot a comma?\n"
     ]
    }
   ],
   "source": [
    "Masking (summary swift output structure)"
   ]
  },
  {
   "cell_type": "code",
   "execution_count": null,
   "id": "cf92e60c-bcc0-4823-81b1-7920d1e2f392",
   "metadata": {},
   "outputs": [],
   "source": [
    "# Other simulation information\n",
    "Redshifts"
   ]
  },
  {
   "cell_type": "markdown",
   "id": "2e6e5ec1-90e8-426c-9a02-5c3080359cad",
   "metadata": {},
   "source": [
    "# SOAP\n",
    "\n",
    "Link to current SOAP pdf\n",
    "\n",
    "Tell us what properties you want"
   ]
  },
  {
   "cell_type": "code",
   "execution_count": 6,
   "id": "6e4a9fd7-6d77-4c88-93fb-2a1b4efcb8c0",
   "metadata": {},
   "outputs": [
    {
     "ename": "SyntaxError",
     "evalue": "invalid syntax (1570704140.py, line 1)",
     "output_type": "error",
     "traceback": [
      "\u001b[0;36m  Cell \u001b[0;32mIn[6], line 1\u001b[0;36m\u001b[0m\n\u001b[0;31m    Datasets from pipeline, how to use\u001b[0m\n\u001b[0m             ^\u001b[0m\n\u001b[0;31mSyntaxError\u001b[0m\u001b[0;31m:\u001b[0m invalid syntax\n"
     ]
    }
   ],
   "source": [
    "Datasets from pipeline, how to use"
   ]
  },
  {
   "cell_type": "code",
   "execution_count": null,
   "id": "f106ed59-e559-4366-ac09-800205fd5dd5",
   "metadata": {},
   "outputs": [],
   "source": []
  },
  {
   "cell_type": "code",
   "execution_count": 4,
   "id": "43f2e8a1-8801-4a29-a5b1-d08804cd55b0",
   "metadata": {},
   "outputs": [
    {
     "ename": "SyntaxError",
     "evalue": "invalid syntax (1626685914.py, line 1)",
     "output_type": "error",
     "traceback": [
      "\u001b[0;36m  Cell \u001b[0;32mIn[4], line 1\u001b[0;36m\u001b[0m\n\u001b[0;31m    Reproduce pipeline plot\u001b[0m\n\u001b[0m              ^\u001b[0m\n\u001b[0;31mSyntaxError\u001b[0m\u001b[0;31m:\u001b[0m invalid syntax\n"
     ]
    }
   ],
   "source": [
    "Reproduce pipeline plot"
   ]
  },
  {
   "cell_type": "code",
   "execution_count": 5,
   "id": "5173e220-1e7f-4658-8ee9-5d04e82b6a0a",
   "metadata": {},
   "outputs": [
    {
     "name": "stdout",
     "output_type": "stream",
     "text": [
      "Object `writing` not found.\n"
     ]
    }
   ],
   "source": [
    "Subset writing?"
   ]
  },
  {
   "cell_type": "markdown",
   "id": "95f616de-e4f5-41a0-9954-df1e6846ec6f",
   "metadata": {},
   "source": [
    "# Merger trees"
   ]
  },
  {
   "cell_type": "code",
   "execution_count": null,
   "id": "dfdb69d9-8427-4606-9f2e-22649316ea2a",
   "metadata": {},
   "outputs": [],
   "source": []
  },
  {
   "cell_type": "code",
   "execution_count": null,
   "id": "7ee46e18-a65c-4698-b623-f2d415e9be6e",
   "metadata": {},
   "outputs": [],
   "source": []
  },
  {
   "cell_type": "markdown",
   "id": "37be5032-9190-49ed-815a-264191214464",
   "metadata": {},
   "source": [
    "# SWIFT galaxy"
   ]
  },
  {
   "cell_type": "code",
   "execution_count": 2,
   "id": "c8fb88c2-4e96-436a-b1ee-086dfc74b004",
   "metadata": {},
   "outputs": [
    {
     "ename": "SyntaxError",
     "evalue": "invalid syntax (396452833.py, line 1)",
     "output_type": "error",
     "traceback": [
      "\u001b[0;36m  Cell \u001b[0;32mIn[2], line 1\u001b[0;36m\u001b[0m\n\u001b[0;31m    Membership files\u001b[0m\n\u001b[0m               ^\u001b[0m\n\u001b[0;31mSyntaxError\u001b[0m\u001b[0;31m:\u001b[0m invalid syntax\n"
     ]
    }
   ],
   "source": [
    "Membership files"
   ]
  },
  {
   "cell_type": "code",
   "execution_count": null,
   "id": "73554fc8-806e-4423-9d4c-1144699ef741",
   "metadata": {},
   "outputs": [],
   "source": [
    "- Visualising objects"
   ]
  }
 ],
 "metadata": {
  "kernelspec": {
   "display_name": "test3",
   "language": "python",
   "name": "test3"
  },
  "language_info": {
   "codemirror_mode": {
    "name": "ipython",
    "version": 3
   },
   "file_extension": ".py",
   "mimetype": "text/x-python",
   "name": "python",
   "nbconvert_exporter": "python",
   "pygments_lexer": "ipython3",
   "version": "3.12.4"
  }
 },
 "nbformat": 4,
 "nbformat_minor": 5
}
