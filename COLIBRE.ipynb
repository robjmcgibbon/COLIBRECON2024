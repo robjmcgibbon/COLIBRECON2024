{
 "cells": [
  {
   "cell_type": "code",
   "execution_count": 1,
   "id": "9453a7a2-5881-48b0-b59f-8a39efa8ed35",
   "metadata": {},
   "outputs": [],
   "source": [
    "import os\n",
    "\n",
    "import matplotlib.pyplot as plot\n",
    "from matplotlib.colors import LogNorm\n",
    "import swiftsimio as sw\n",
    "from swiftsimio.objects import InvalidConversionError\n",
    "import unyt"
   ]
  },
  {
   "cell_type": "markdown",
   "id": "3e38112a-9bfc-4820-a503-a939c39f9eff",
   "metadata": {},
   "source": [
    "# Simulation directory structure\n",
    "\n",
    "Before we start looking at the data let's take a quick look at how everything is stored.\n",
    "\n",
    "All simulations are kept at `/cosma8/data/dp004/colibre/Runs`. Here you will see a collection of directories with names of the form `LXXXXNYYYY`. The value of `XXXX` corresponds to the simulation box side length in comoving Mpc, and the value of `YYYY` is the number of gas particles per linear dimension. Each simulation has four times as many dark matter particles as gas. We will use one of the `L0025N0376` simulations, meaning they have a volume of $(25\\mathrm{Mpc})^3$, $376^3$ gas particles, and $4 \\times 376^3$ dark matter particles.\n",
    "\n",
    "For each box size and resolution we have a multiple simulations. Each of these has a different set of subgrid models (the way we include physical processes in the simulation, e.g. black hole feedback). For this notebook we will use the `Fiducial_test` simulation.\n",
    "\n",
    "Let's list what's present inside the simulation directory:"
   ]
  },
  {
   "cell_type": "code",
   "execution_count": 2,
   "id": "646fffc9-3b5d-433d-8c86-86d3354d3fc5",
   "metadata": {},
   "outputs": [
    {
     "name": "stdout",
     "output_type": "stream",
     "text": [
      "colibre_L025N0376.yml\t pipeline_output\t  SNII.txt\n",
      "colibre.xmf\t\t rank_cpu_balance.log\t  SOAP\n",
      "data_0123.yml\t\t rank_hostname.log\t  statistics.txt\n",
      "dependency_graph_-1.csv  rank_memory_balance.log  submit.slurm\n",
      "HBTplus\t\t\t resub.sh\t\t  swift-colibre\n",
      "logs\t\t\t resub.slurm\t\t  task_level_0000_-1.txt\n",
      "output_fields.yml\t r_processes.txt\t  timesteps.txt\n",
      "output_list_ps.txt\t SFR.txt\t\t  unused_parameters.yml\n",
      "output_list.txt\t\t snapshots\t\t  used_parameters\n",
      "partition_fixed_costs.h  SNIa.txt\n"
     ]
    }
   ],
   "source": [
    "!ls /cosma8/data/dp004/colibre/Runs/L0025N0376/Fiducial_test"
   ]
  },
  {
   "cell_type": "markdown",
   "id": "4442bf04-0bc3-4db2-9fd2-a53b0a3932dc",
   "metadata": {},
   "source": [
    "You probably don't won't ever need to look at most of these files. The most important files/directories (which we'll look at below) are:\n",
    "- `snapshots` This directory contains the particles and their properties output by the simulation at different times\n",
    "- `SOAP` This directory contains the halo catalogues\n",
    "- `HBTplus` This directory contains the full halo merger tree information for the simulation\n",
    "- `output_list.txt` This file lists the redshifts at which snapshots have been created\n",
    "\n",
    "Let's print the first few lines of `output_list.txt` "
   ]
  },
  {
   "cell_type": "code",
   "execution_count": 3,
   "id": "b966afb4-52e8-44a9-a279-353e04205d79",
   "metadata": {},
   "outputs": [
    {
     "name": "stdout",
     "output_type": "stream",
     "text": [
      "# Redshift, Select Output\n",
      "30.000000, Snapshot\n",
      "25.000000, Snipshot\n",
      "22.500000, Snipshot\n",
      "20.000000, Snapshot\n"
     ]
    }
   ],
   "source": [
    "!head -5 /cosma8/data/dp004/colibre/Runs/L0025N0376/Fiducial_test/output_list.txt"
   ]
  },
  {
   "cell_type": "markdown",
   "id": "523406fa-0717-493c-9364-72ac4387f492",
   "metadata": {},
   "source": [
    "We can see that the first snapshot (`snap_nr=0` since the files are 0-indexed) corresponds to `z=30`. If we want the `z=20` snapshot we will need to load `snap_nr=3`.\n",
    "\n",
    "For some redshifts we output all the particle properties. For others we output a reduced file with significantly less properties, which are called snipshots."
   ]
  },
  {
   "cell_type": "markdown",
   "id": "9963c623-5596-49cf-896c-1abd4b96036b",
   "metadata": {},
   "source": [
    "The `swiftsnap` command from swiftsimio is useful for viewing information about snapshot files. For information about it's usage see [the documentation.](https://swiftsimio.readthedocs.io/en/latest/command_line/index.html#swiftsnap). It use it you must be in a python environment with swiftsimio installed. "
   ]
  },
  {
   "cell_type": "markdown",
   "id": "f53ad4da-c93c-4fe3-ba52-12ff1bc078fe",
   "metadata": {},
   "source": [
    "# Snapshot datasets\n",
    "\n",
    "Analysis of SWIFT snapshots should be carried out using [swiftsimio](https://swiftsimio.readthedocs.io/en/latest/index.html). This ensures that all units will be handled correctly (internal cosmological simulation units can be strange), and contains a lot of useful functionality for working with the files.\n",
    "\n",
    "\n",
    "Within the `snapshots` directory there is a directory for each snapshot. Each of these contains a number of \"chunk\" files, named `colibre_xxxx.y.hdf5`. There is also a virtual file named `colibre_xxxx.hdf5`. **You should always load the virtual file rather than the chunk files**. Each chunk file only contains a subset of the total number of particles in the simulation, but if you use the virtual file you will have access to all the particles. Even if you only want to load a small region of the simulation you should use the virtual file combined with swiftsimio's masking ability (see below).\n",
    "\n",
    "We begin by loading the `z=1` snapshot."
   ]
  },
  {
   "cell_type": "code",
   "execution_count": 4,
   "id": "0ef13c26-f6e8-45f3-a869-b2c065fd4acf",
   "metadata": {},
   "outputs": [],
   "source": [
    "simulation_dir = \"/cosma8/data/dp004/colibre/Runs/L0025N0376/Fiducial_test\"\n",
    "# For this test run we only had 124 snapshots, but all the main simulations have 128 snapshots, so double-check you have the correct snapshot.\n",
    "snap_nr = 88\n",
    "snapshot_filename = f\"{simulation_dir}/snapshots/colibre_{snap_nr:04}/colibre_{snap_nr:04}.hdf5\"\n",
    "snap = sw.load(snapshot_filename)"
   ]
  },
  {
   "cell_type": "markdown",
   "id": "f29fef9d-17a2-4a47-b1c4-83910b73ba60",
   "metadata": {},
   "source": [
    "### Metadata and loading particle properties\n",
    "\n",
    "Basic information about the simulation can be accessed through the metadata attribute"
   ]
  },
  {
   "cell_type": "code",
   "execution_count": 5,
   "id": "a4dd7cc9-4e7f-4a98-a6f4-31dead462051",
   "metadata": {},
   "outputs": [
    {
     "name": "stdout",
     "output_type": "stream",
     "text": [
      "Boxsize: [25.00000001 25.00000001 25.00000001] Mpc\n",
      "Redshift: 1.0\n",
      "Omega_lambda [0.256011]\n",
      "Number of gas particles: 50971999\n"
     ]
    }
   ],
   "source": [
    "print(f\"Boxsize: {snap.metadata.boxsize}\")\n",
    "print(f\"Redshift: {snap.metadata.redshift}\")\n",
    "print(f\"Omega_lambda {snap.metadata.cosmology['Omega_cdm']}\")\n",
    "print(f\"Number of gas particles: {snap.metadata.n_gas}\")"
   ]
  },
  {
   "cell_type": "markdown",
   "id": "cf8eeba5-4b11-4821-bbf0-4029dc852ea5",
   "metadata": {},
   "source": [
    "All the gas particle properties are contained within `snap.gas` (likewise for `snap.dark_matter`, `snap.stars`, `snap.black_holes`). For example the mass of the gas particles"
   ]
  },
  {
   "cell_type": "code",
   "execution_count": 6,
   "id": "34165776-d441-4148-a1e0-08cc180b29a3",
   "metadata": {},
   "outputs": [
    {
     "name": "stdout",
     "output_type": "stream",
     "text": [
      "[0.00019066 0.00019555 0.00018962 ... 0.00018733 0.00019002 0.00018751] 10000000000.0*Msun (Comoving)\n",
      "(50971999,)\n"
     ]
    }
   ],
   "source": [
    "print(snap.gas.masses)\n",
    "print(snap.gas.masses.shape)"
   ]
  },
  {
   "cell_type": "markdown",
   "id": "947af283-2f09-44cd-9d0f-a82b9d1a13c4",
   "metadata": {},
   "source": [
    "You can find out what properties are available by using tab completion, or within the metadata. The property descriptions can also be accessed from the swiftsimio object."
   ]
  },
  {
   "cell_type": "code",
   "execution_count": 7,
   "id": "41396f1a-31c6-4a58-b2d2-2453cec64559",
   "metadata": {},
   "outputs": [
    {
     "name": "stdout",
     "output_type": "stream",
     "text": [
      "['averaged_star_formation_rates', 'compton_yparameters', 'coordinates']\n",
      "The energy the particles received the last time they were heated by AGN feedback. Not masked.\n"
     ]
    }
   ],
   "source": [
    "print(snap.metadata.gas_properties.field_names[:3])\n",
    "print(snap.gas.last_energies_received_from_agnfeedback.name)"
   ]
  },
  {
   "cell_type": "markdown",
   "id": "18e218cd-3d61-40ca-818f-7689c3421a88",
   "metadata": {},
   "source": [
    "Each dataset has units associated with them that are automatically read in from the snapshot. Data is initially loaded in the simulation units, but it is easy to convert to your unit of choice.\n",
    "\n",
    "**Specify the units you want, don't assume the datasets have the units you expect**"
   ]
  },
  {
   "cell_type": "code",
   "execution_count": 8,
   "id": "9e8cb1b9-19be-452c-8043-74e5d5cf255b",
   "metadata": {},
   "outputs": [
    {
     "name": "stdout",
     "output_type": "stream",
     "text": [
      "[6.280249  6.291265  6.2778854 ... 6.2726173 6.2788067 6.2730255]\n"
     ]
    }
   ],
   "source": [
    "mass_msun = snap.gas.masses.to(\"Msun\")\n",
    "print(np.log10(mass_msun))"
   ]
  },
  {
   "cell_type": "markdown",
   "id": "fc5f5c40-591d-4140-a392-849063393de7",
   "metadata": {},
   "source": [
    "Swiftsimio will automatically combine units for you, and will throw an error if you try and combine datasets in an inconsistent way"
   ]
  },
  {
   "cell_type": "code",
   "execution_count": 9,
   "id": "0446fe5f-7a20-4a28-98a3-fcd7bd150aa8",
   "metadata": {},
   "outputs": [
    {
     "name": "stdout",
     "output_type": "stream",
     "text": [
      "Volume: [0.00295246 0.00265667 0.00187379 ... 0.0007878  0.0006287  0.00054782] Mpc**3 (Comoving)\n",
      "You can't combine those!\n"
     ]
    }
   ],
   "source": [
    "volume = snap.gas.masses / snap.gas.densities\n",
    "print(\"Volume:\", volume)\n",
    "\n",
    "try:\n",
    "    snap.gas.masses + snap.gas.densities\n",
    "except ValueError:\n",
    "    print(\"You can't combine those!\")"
   ]
  },
  {
   "cell_type": "markdown",
   "id": "4b2b9793-84ae-4c10-946b-215918e9ed20",
   "metadata": {},
   "source": [
    "Properties are stored as co-moving quantities. This means you may need to convert them to physical depending on your use case"
   ]
  },
  {
   "cell_type": "code",
   "execution_count": 10,
   "id": "e05ec976-884a-4f11-b383-2152a2b53fd2",
   "metadata": {},
   "outputs": [
    {
     "name": "stdout",
     "output_type": "stream",
     "text": [
      "Comoving positions\n"
     ]
    },
    {
     "data": {
      "text/plain": [
       "cosmo_array([[0.2611892, 0.0491192, 7.8849302],\n",
       "       [0.1353292, 0.0343112, 8.1291142],\n",
       "       [0.2246172, 0.3370582, 8.1658752],\n",
       "       [0.0839512, 0.2286102, 8.1874442],\n",
       "       [0.2007642, 0.3070582, 8.0156952],\n",
       "       [0.1674202, 0.2194162, 8.0857712],\n",
       "       [0.3428662, 0.2435992, 8.1275442],\n",
       "       [0.1757712, 0.2412162, 7.8746612],\n",
       "       [0.2978952, 0.1163872, 8.0569282],\n",
       "       [0.0676302, 0.2984932, 8.1075112]], 'Mpc', comoving=True)"
      ]
     },
     "execution_count": 10,
     "metadata": {},
     "output_type": "execute_result"
    }
   ],
   "source": [
    "print(\"Comoving positions\")\n",
    "snap.gas.coordinates[:10]"
   ]
  },
  {
   "cell_type": "code",
   "execution_count": 11,
   "id": "ea676707-e8e2-4b18-8882-8505f4b2a7fd",
   "metadata": {},
   "outputs": [
    {
     "name": "stdout",
     "output_type": "stream",
     "text": [
      "Physical positions\n"
     ]
    },
    {
     "data": {
      "text/plain": [
       "cosmo_array([[0.1305946, 0.0245596, 3.9424651],\n",
       "       [0.0676646, 0.0171556, 4.0645571],\n",
       "       [0.1123086, 0.1685291, 4.0829376],\n",
       "       [0.0419756, 0.1143051, 4.0937221],\n",
       "       [0.1003821, 0.1535291, 4.0078476],\n",
       "       [0.0837101, 0.1097081, 4.0428856],\n",
       "       [0.1714331, 0.1217996, 4.0637721],\n",
       "       [0.0878856, 0.1206081, 3.9373306],\n",
       "       [0.1489476, 0.0581936, 4.0284641],\n",
       "       [0.0338151, 0.1492466, 4.0537556]], 'Mpc', comoving=False)"
      ]
     },
     "execution_count": 11,
     "metadata": {},
     "output_type": "execute_result"
    }
   ],
   "source": [
    "print(\"Physical positions\")\n",
    "snap.gas.coordinates[:10].to_physical()"
   ]
  },
  {
   "cell_type": "markdown",
   "id": "5237a88e-912b-4cd3-9b2d-8f2ac489708d",
   "metadata": {},
   "source": [
    "Some properties (for which it does not make sense to refer to as comoving) cannot be converted. This can be checked with the `valid_transform` attribute."
   ]
  },
  {
   "cell_type": "code",
   "execution_count": 12,
   "id": "3840de05-e0cc-4c51-9292-a1dcb655a616",
   "metadata": {},
   "outputs": [
    {
     "name": "stdout",
     "output_type": "stream",
     "text": [
      "Coordinates have valid transform? True\n",
      "Coordinate have valid transform? False\n",
      "You can't transform that!\n"
     ]
    }
   ],
   "source": [
    "print('Coordinates have valid transform?', snap.gas.coordinates.valid_transform)\n",
    "print('Last feedback scales factors have valid transform?', snap.gas.last_agnfeedback_scale_factors.valid_transform)\n",
    "\n",
    "try:\n",
    "    snap.gas.last_agnfeedback_scale_factors.to_comoving()\n",
    "except InvalidConversionError:\n",
    "    print(\"You can't transform that!\")"
   ]
  },
  {
   "cell_type": "markdown",
   "id": "31e79937-868e-4395-8d1c-59b3e5f656cc",
   "metadata": {},
   "source": [
    "If you need a numpy array of the dataset, use `.value`"
   ]
  },
  {
   "cell_type": "code",
   "execution_count": 13,
   "id": "b3ece5b0-c475-4c1b-b8a3-cb7dac164c07",
   "metadata": {},
   "outputs": [
    {
     "data": {
      "text/plain": [
       "array([[ 0.2611892 ,  0.0491192 ,  7.8849302 ],\n",
       "       [ 0.1353292 ,  0.0343112 ,  8.1291142 ],\n",
       "       [ 0.2246172 ,  0.3370582 ,  8.1658752 ],\n",
       "       ...,\n",
       "       [24.91037948, 24.90664348, 18.72689548],\n",
       "       [24.81210748, 24.88645748, 18.65617348],\n",
       "       [24.94263648, 24.98478748, 18.65686148]])"
      ]
     },
     "execution_count": 13,
     "metadata": {},
     "output_type": "execute_result"
    }
   ],
   "source": [
    "snap.gas.coordinates.value"
   ]
  },
  {
   "cell_type": "markdown",
   "id": "010ffd88-6d21-4a3c-926a-e937a2810ef5",
   "metadata": {},
   "source": [
    "Certain properties have multiple columns, which you can access by specifying the name of the column you want"
   ]
  },
  {
   "cell_type": "code",
   "execution_count": 14,
   "id": "3b46bb58-90af-42bf-b88c-41aab734b66b",
   "metadata": {},
   "outputs": [
    {
     "name": "stdout",
     "output_type": "stream",
     "text": [
      "Named columns instance with ['GAMA_u', 'GAMA_g', 'GAMA_r', 'GAMA_i', 'GAMA_z', 'GAMA_Y', 'GAMA_J', 'GAMA_H', 'GAMA_K'] available for \"luminosities\"\n",
      "[4160. 3620. 3652. ... 3448. 7448. 4712.] dimensionless (Physical)\n"
     ]
    }
   ],
   "source": [
    "print(snap.stars.luminosities)\n",
    "print(snap.stars.luminosities.GAMA_u)"
   ]
  },
  {
   "cell_type": "markdown",
   "id": "a746e58f-0b61-46be-a54c-174bb8a103c3",
   "metadata": {},
   "source": [
    "### Masking\n",
    "\n",
    "SWIFT outputs files which are spatially sorted. This means it is possible to load the particles within a certain section of the simulation volume, rather than having to load everything. This can significantly reduce the time spent loading data.\n",
    "\n",
    "Let's load the same snapshot as before, but only the corner of the box. Once loaded the object behaves the same as before."
   ]
  },
  {
   "cell_type": "code",
   "execution_count": 15,
   "id": "5c01db08-dee8-4854-b523-79f67578e5cc",
   "metadata": {},
   "outputs": [
    {
     "name": "stdout",
     "output_type": "stream",
     "text": [
      "Load region: [[unyt_quantity(0., 'Mpc'), unyt_quantity(5., 'Mpc')], [unyt_quantity(0., 'Mpc'), unyt_quantity(5., 'Mpc')], [unyt_quantity(0., 'Mpc'), unyt_quantity(5., 'Mpc')]]\n",
      "Number of gas particles: 50971999\n"
     ]
    }
   ],
   "source": [
    "mask = sw.mask(snapshot_filename)\n",
    "boxsize = mask.metadata.boxsize\n",
    "\n",
    "# Specify the region of the box we want to load (this requires units)\n",
    "load_region = [[0.0 * b, 0.2 * b] for b in boxsize]\n",
    "print('Load region:', load_region)\n",
    "\n",
    "mask.constrain_spatial(load_region)\n",
    "snap = sw.load(snapshot_filename, mask=mask)\n",
    "print(f\"Number of gas particles: {snap.metadata.n_gas}\")"
   ]
  },
  {
   "cell_type": "markdown",
   "id": "8b734459-7a27-4d7c-985a-d31d1618ff55",
   "metadata": {},
   "source": [
    "This works because SWIFT groups particles into cells. Any cells that overlap with the load region specified will be loaded. This means that you will often end up loading some particles outside of the load region specified, so you need to apply your own mask if you don't want particles outside the load region. "
   ]
  },
  {
   "cell_type": "code",
   "execution_count": 16,
   "id": "236b13ea-83e6-4425-9076-1a7696985142",
   "metadata": {},
   "outputs": [
    {
     "name": "stdout",
     "output_type": "stream",
     "text": [
      "24.999999103039027 Mpc (Comoving)\n"
     ]
    }
   ],
   "source": [
    "print(np.max(snap.gas.coordinates))"
   ]
  },
  {
   "cell_type": "markdown",
   "id": "4602fd8f-e1f8-4502-8b46-920f623ab827",
   "metadata": {},
   "source": [
    "### Visualisation\n",
    "\n",
    "Sometimes you may want to visualise a set of particles or specific region of the simulation in order to gain insight into what enviroment a galaxy exists in. [Swiftsimio supports multiple options for this](https://swiftsimio.readthedocs.io/en/latest/visualisation/index.html)"
   ]
  },
  {
   "cell_type": "code",
   "execution_count": null,
   "id": "6756d72d-eca6-4b47-b997-4aec2b3cf5d2",
   "metadata": {},
   "outputs": [],
   "source": [
    "snap = sw.load(snapshot_filename)\n",
    "boxsize = snap.metadata.boxsize[0].to('Mpc').value\n",
    "extent = [0, boxsize, 0, boxsize]\n",
    "\n",
    "mass_map = sw.visualisation.projection.project_gas(\n",
    "    snap,\n",
    "    resolution=128,\n",
    "    project=\"masses\",\n",
    "    parallel=True,\n",
    "    periodic=True,\n",
    ")\n",
    "\n",
    "mass_map = mass_map.to('Msun/kpc**2').value\n",
    "\n",
    "plt.imshow(LogNorm()(mass_map), cmap=\"viridis\", extent=extent)"
   ]
  },
  {
   "cell_type": "markdown",
   "id": "2e6e5ec1-90e8-426c-9a02-5c3080359cad",
   "metadata": {},
   "source": [
    "# SOAP\n",
    "\n",
    "Once the simulation has been completed we identify bound subhalo using [HBTplus](https://github.com/SWIFTSIM/HBTplus). The output of HBT is passed to [SOAP](https://github.com/SWIFTSIM/SOAP), which we use to calculate a wide range of halo/galaxy properties.\n",
    "\n",
    "The properties available in SOAP vary depending on the simulation, and within the `SOAP` directory of each simulation there is a `SOAP.pdf` file which is generated from the SOAP parameter file of that run. An example of pdf, which gives a summary of what information is available in SOAP, can be found [here](https://ftp.strw.leidenuniv.nl/mcgibbon/SOAP.pdf).\n",
    "\n",
    "SOAP catalogues can also be loaded using swiftsimio. The datasets all have the same length (the number of subhalos) and are always sorted in the same order. Due to a combination of the fact that we do not compute spherical overdensity properties for satellites and the filters we use (see SOAP pdf) many values will be zero. Let's plot the correlation between M200c and galaxy stellar mass."
   ]
  },
  {
   "cell_type": "code",
   "execution_count": null,
   "id": "fed88b13-e1fb-49c9-8a89-134ea0ea4b28",
   "metadata": {},
   "outputs": [],
   "source": [
    "simulation_dir = \"/cosma8/data/dp004/colibre/Runs/L0050N0376/Fiducial_test\"\n",
    "snap_nr = 127   # z=0\n",
    "soap_filename = f'{simulation_dir}/SOAP/halo_properties_{snap_nr:04}.hdf5'\n",
    "soap = sw.load(soap_filename)"
   ]
  },
  {
   "cell_type": "code",
   "execution_count": null,
   "id": "d49ed868-dec9-4098-8e05-7ba258324ae3",
   "metadata": {},
   "outputs": [],
   "source": [
    "stellar_mass = soap.exclusive_sphere_50kpc.stellar_mass.to('Msun')\n",
    "total_mass = soap.spherical_overdensity_200_crit.total_mass.to('Msun')\n",
    "mask = (stellar_mass != 0) & (total_mass != 0)\n",
    "\n",
    "plt.loglog(total_mass[mask], stellar_mass[mask], '.')\n",
    "plt.xlabel(r'$M_{200c}$ [$M_\\odot$]')\n",
    "plt.ylabel(r'$M_{*}$ [$M_\\odot$]')"
   ]
  },
  {
   "cell_type": "markdown",
   "id": "4f6650ca-5dcb-414a-9973-27839bad2541",
   "metadata": {},
   "source": [
    "### Pipeline plots\n",
    "\n",
    "We produce a pipeline, which contains a large number of plots summarising the key properties of each simulation (e.g. the `z=0` pipeline of `L0050N0376/Fiducial_test` can be found [here](https://home.strw.leidenuniv.nl/~mcgibbon/COLIBRE/pipeline/L0050N0376_Thermal_non_equilibrium_2024August13_Mhs5e10Mbhs3e5/)).\n",
    "\n",
    "If you would like a copy of any of the observational data in the pipeline then please send a request to a member of the COLIBRE team. All observational datasets are stored in a consistent format in an HDF5 file, which includes their units (stored in the dataset attributes). An example of an observational dataset is available in this repository."
   ]
  },
  {
   "cell_type": "code",
   "execution_count": null,
   "id": "09651311-aeb2-4275-972c-1b6a84336e17",
   "metadata": {},
   "outputs": [],
   "source": [
    "with h5py.File('Hardwick2022_halfmass.hdf5', 'r') as file:\n",
    "    print(f'File keys: {file.keys()}')\n",
    "    # A description of the data is in the metadata\n",
    "    for k, v in file['metadata'].attrs.items():\n",
    "        print(f'{k}: {v}')\n",
    "    # Data\n",
    "    print(file['y'].keys())"
   ]
  },
  {
   "cell_type": "markdown",
   "id": "df26d075-346d-46ac-bff3-50856ad43203",
   "metadata": {},
   "source": [
    "Let's use some of the observational data to create a version of the [galaxy sizes plot](https://home.strw.leidenuniv.nl/~mcgibbon/COLIBRE/pipeline/L0050N0376_Thermal_non_equilibrium_2024August13_Mhs5e10Mbhs3e5/#8834710858053016908)."
   ]
  },
  {
   "cell_type": "code",
   "execution_count": null,
   "id": "2cdc71c7-924b-4e4e-b782-efef1558f6a4",
   "metadata": {},
   "outputs": [],
   "source": [
    "# Load the observational data, specify the units we want\n",
    "with h5py.File('Hardwick2022_halfmass.hdf5', 'r') as file:\n",
    "    obs_mass = file['x/values'][:] * unyt.Unit(file['x/values'].attrs['units'])\n",
    "    obs_size = file['y/values'][:] * unyt.Unit(file['y/values'].attrs['units'])\n",
    "    obs_size_scatter = file['y/scatter'][:] * unyt.Unit(file['y/scatter'].attrs['units'])\n",
    "obs_mass = obs_mass.to('Msun')\n",
    "obs_size = obs_size.to('kpc')\n",
    "obs_size_scatter = obs_size_scatter.to('kpc')\n",
    "\n",
    "# Load the simulation data, specifying the units we want\n",
    "sim_mass = soap.exclusive_sphere_50kpc.stellar_mass.to('Msun')\n",
    "sim_size = soap.projected_aperture_50kpc_projx.half_mass_radius_stars.to('kpc').to_physical()\n",
    "\n",
    "# Define the number of bins for the simulation data\n",
    "log_mass_bounds = [8, 11.5]\n",
    "n_bins = 20\n",
    "bins = (10 ** np.linspace(*log_mass_bounds, n_bins)) * unyt.Unit('Msun')\n",
    "mids = (bins[1:] + bins[:-1]) / 2\n",
    "\n",
    "# Bin the simulation data\n",
    "median_sim_size = np.zeros(n_bins - 1)\n",
    "lower_sim_size = np.zeros(n_bins - 1)\n",
    "upper_sim_size = np.zeros(n_bins - 1)\n",
    "for i in range(n_bins - 1):\n",
    "    mask = (bins[i] <= sim_mass) & (sim_mass < bins[i + 1])\n",
    "    if np.any(mask):  \n",
    "        median_sim_size[i] = np.median(sim_size[mask].value)\n",
    "        lower_sim_size[i] = np.percentile(sim_size[mask].value, 16)\n",
    "        upper_sim_size[i] = np.percentile(sim_size[mask].value, 84)\n",
    "\n",
    "# Plot\n",
    "plt.figure(figsize=(8, 6))\n",
    "plt.plot(mids, median_sim_size, label='Colibre', marker='o', linestyle='-', color='tab:blue')\n",
    "plt.fill_between(mids, lower_sim_size, upper_sim_size, color='tab:blue', alpha=0.1, linewidth=0)\n",
    "plt.errorbar(obs_mass, obs_size, yerr=obs_size_scatter, label='Observations', fmt='o', color='tab:red', capsize=3)\n",
    "plt.xscale('log')\n",
    "plt.yscale('log')\n",
    "plt.xlabel('Stellar Mass [Msun]')\n",
    "plt.ylabel('Size [kpc]')\n",
    "plt.legend()"
   ]
  },
  {
   "cell_type": "markdown",
   "id": "95f616de-e4f5-41a0-9954-df1e6846ec6f",
   "metadata": {},
   "source": [
    "# Satellites and merger trees\n",
    "\n",
    "HBT outputs merger tree information. Each subhalo in HBT is assigned a unique `TrackId` which remains consistent across all snapshots. The `TrackId` allows the quick retrieval of the main progenitor of a given subhalo. For example, the main progenitor of a `z = 0` subhalo with `TrackId = 10` corresponds to the subhalo whose `TrackId = 10` at earlier times. Note that, due to SOAP not storing the information for subhaloes with `Nbound < 20` (e.g. disrupted, merged or poorly resolved), some `TrackIds` might be missing from the SOAP catalogues. In practice, this means there could be an object with `TrackId = 11` in the `z = 2` catalogue, but no object with `TrackId = 11` in the `z = 0` catalogue. `TrackId` is stored in the SOAP catalogues in `data.input_halos_hbtplus.track_id`. Full merger trees require the use of the HBT catalogues.\n",
    "\n",
    "Let's load the most massive halo in the box at `z = 0`, and track it's evolution"
   ]
  },
  {
   "cell_type": "code",
   "execution_count": null,
   "id": "999c2b37-ac1f-4d8f-846b-ce85089c1915",
   "metadata": {},
   "outputs": [],
   "source": [
    "simulation_dir = \"/cosma8/data/dp004/colibre/Runs/L0025N0376/Fiducial_test\"\n",
    "snap_nr = 123   # z=0\n",
    "soap_filename = f'{simulation_dir}/SOAP/halo_properties_{snap_nr:04}.hdf5'\n",
    "soap = sw.load(soap_filename)"
   ]
  },
  {
   "cell_type": "code",
   "execution_count": null,
   "id": "4abe9df8-18b0-40a4-91c8-2973bf09dd72",
   "metadata": {},
   "outputs": [],
   "source": [
    "# Idenfity the TrackID of the galaxy with the largest stellar mass\n",
    "stellar_mass = soap.exclusive_sphere_50kpc.stellar_mass\n",
    "soap_idx = np.argmax(stellar_mass)\n",
    "track_id = soap.input_halos_hbtplus.track_id[soap_idx]\n",
    "# Grab the FOF ID while we're at it\n",
    "fof_id = soap.input_halos_hbtplus.host_fofid[soap_idx]\n",
    "print(f'Most massive galaxy has TrackId={track_id.value}, FOF ID={fof_id.value}')"
   ]
  },
  {
   "cell_type": "code",
   "execution_count": null,
   "id": "dfdb69d9-8427-4606-9f2e-22649316ea2a",
   "metadata": {},
   "outputs": [],
   "source": [
    "snapshots = np.arange(43, 124, 10)\n",
    "scale_factors = np.zeros(snapshots.shape[0])\n",
    "dm_mass = np.zeros(snapshots.shape[0]) * unyt.Unit('Msun')\n",
    "gas_mass = np.zeros(snapshots.shape[0]) * unyt.Unit('Msun')\n",
    "stellar_mass = np.zeros(snapshots.shape[0]) * unyt.Unit('Msun')\n",
    "for i, snap_nr in enumerate(snapshots):\n",
    "    print('Loading snapshot', snap_nr)\n",
    "    soap_filename = f'{simulation_dir}/SOAP/halo_properties_{snap_nr:04}.hdf5'\n",
    "    soap = sw.load(soap_filename)\n",
    "    scale_factors[i] = soap.metadata.a\n",
    "\n",
    "    # Identify the location of the halo in this SOAP catalogue\n",
    "    soap_idx = np.argmax(soap.input_halos_hbtplus.track_id[:].value == track_id)\n",
    "    dm_mass[i] = soap.spherical_overdensity_200_crit.dark_matter_mass[soap_idx]\n",
    "    gas_mass[i] = soap.spherical_overdensity_200_crit.gas_mass[soap_idx]\n",
    "    stellar_mass[i] = soap.exclusive_sphere_50kpc.stellar_mass[soap_idx]"
   ]
  },
  {
   "cell_type": "code",
   "execution_count": null,
   "id": "83be6ae4-ab05-45d6-934b-a3a71e603f5c",
   "metadata": {},
   "outputs": [],
   "source": [
    "plt.plot(scale_factors, dm_mass, label='Dark matter', color='k')\n",
    "plt.plot(scale_factors, gas_mass, label='Gas', color='tab:green')\n",
    "plt.plot(scale_factors, stellar_mass, label='Stars', color='tab:orange')\n",
    "plt.xscale('log')\n",
    "plt.yscale('log')\n",
    "plt.xlabel('Scale factor')\n",
    "plt.ylabel('Mass [Msun]')"
   ]
  },
  {
   "cell_type": "markdown",
   "id": "ffd0ee13-ff66-4f4c-8444-aa0df90e991c",
   "metadata": {},
   "source": [
    "SOAP stores the host FOF ID of each subhalo, as well as whether an object is a central or satellite. HBT does have \"hostless\" halos, which correspond to splashback halos. Let's load all the satellites halos within the FOF of the most massive galaxy."
   ]
  },
  {
   "cell_type": "code",
   "execution_count": null,
   "id": "ddc829fe-6639-4bff-8b91-5d526480a69d",
   "metadata": {},
   "outputs": [],
   "source": [
    "snap_nr = 123   # z=0\n",
    "soap_filename = f'{simulation_dir}/SOAP/halo_properties_{snap_nr:04}.hdf5'\n",
    "soap = sw.load(soap_filename)"
   ]
  },
  {
   "cell_type": "code",
   "execution_count": null,
   "id": "61586417-c79b-40f9-80e7-f8987e5ccab7",
   "metadata": {},
   "outputs": [],
   "source": [
    "# Load data, convert to mask\n",
    "is_sat = (soap.input_halos.is_central[:].value == 0)\n",
    "# Create mask of objects that share the same fof as the most massive object\n",
    "in_fof = (soap.input_halos_hbtplus.host_fofid[:] == fof_id)\n",
    "# Combine masks to remove central\n",
    "sat_in_fof = is_sat & in_fof\n",
    "\n",
    "print(f'Fraction of satellites in total population: {np.sum(is_sat)/is_sat.shape[0]:.3g}')\n",
    "print(f'Number of satellites in the FOF of the most massive galaxy: {np.sum(sat_in_fof)}')\n",
    "\n",
    "# We can use this mask to load the properties of just the satellites we want\n",
    "sat_stellar_mass = soap.exclusive_sphere_50kpc.stellar_mass[sat_in_fof]\n",
    "sat_stellar_mass.to('Msun')"
   ]
  },
  {
   "cell_type": "markdown",
   "id": "59cb4a76-a4af-4eae-aea9-cf71f1640c1a",
   "metadata": {},
   "source": [
    "Each central subhalo stored in SOAP has the properties of it's host FOF subhalo available within `data.input_halos_hbtplus_fof`. FOF catalogues can also be loaded directly using swiftsimio. Let's load the masses of all FOF groups."
   ]
  },
  {
   "cell_type": "code",
   "execution_count": null,
   "id": "bd4301b9-5750-4b8c-92aa-ab5d3701b495",
   "metadata": {},
   "outputs": [],
   "source": [
    "simulation_dir = \"/cosma8/data/dp004/colibre/Runs/L0050N0376/Fiducial_test\"\n",
    "snap_nr = 127   # z=0\n",
    "fof_filename = f'{simulation_dir}/fof/fof_output_{snap_nr:04}/fof_output_{snap_nr:04}.hdf5'\n",
    "fof = sw.load(fof_filename)\n",
    "fof.fof_groups.masses"
   ]
  },
  {
   "cell_type": "markdown",
   "id": "37be5032-9190-49ed-815a-264191214464",
   "metadata": {},
   "source": [
    "# SWIFT galaxy"
   ]
  },
  {
   "cell_type": "code",
   "execution_count": null,
   "id": "c8fb88c2-4e96-436a-b1ee-086dfc74b004",
   "metadata": {},
   "outputs": [],
   "source": [
    "Membership files - Either use SIWFT galaxy or directly describe"
   ]
  },
  {
   "cell_type": "code",
   "execution_count": null,
   "id": "73554fc8-806e-4423-9d4c-1144699ef741",
   "metadata": {},
   "outputs": [],
   "source": [
    "- Visualising objects"
   ]
  }
 ],
 "metadata": {
  "kernelspec": {
   "display_name": "test3",
   "language": "python",
   "name": "test3"
  },
  "language_info": {
   "codemirror_mode": {
    "name": "ipython",
    "version": 3
   },
   "file_extension": ".py",
   "mimetype": "text/x-python",
   "name": "python",
   "nbconvert_exporter": "python",
   "pygments_lexer": "ipython3",
   "version": "3.12.4"
  }
 },
 "nbformat": 4,
 "nbformat_minor": 5
}
