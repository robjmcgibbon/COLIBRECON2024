{
 "cells": [
  {
   "cell_type": "code",
   "execution_count": 1,
   "id": "ae6a34a1-77d7-40db-b11c-0c6bb32eb652",
   "metadata": {},
   "outputs": [],
   "source": [
    "# Snapshots"
   ]
  },
  {
   "cell_type": "code",
   "execution_count": 2,
   "id": "46e17a3d-7c8d-479f-bebb-f4a9f30f06b7",
   "metadata": {},
   "outputs": [
    {
     "ename": "SyntaxError",
     "evalue": "invalid syntax (1399047486.py, line 1)",
     "output_type": "error",
     "traceback": [
      "\u001b[0;36m  Cell \u001b[0;32mIn[2], line 1\u001b[0;36m\u001b[0m\n\u001b[0;31m    - SOAP pdf\u001b[0m\n\u001b[0m           ^\u001b[0m\n\u001b[0;31mSyntaxError\u001b[0m\u001b[0;31m:\u001b[0m invalid syntax\n"
     ]
    }
   ],
   "source": [
    "- SOAP pdf\n",
    "- Membership files\n",
    "- HBT catalogues\n",
    "- Datasets from pipeline\n",
    "- Loading SOAP catalogues and masking\n",
    "- SWIFT galaxy\n",
    "- Victor function for matrices\n",
    "- Adding properties"
   ]
  },
  {
   "cell_type": "markdown",
   "id": "2e6e5ec1-90e8-426c-9a02-5c3080359cad",
   "metadata": {},
   "source": [
    "# SOAP\n",
    "\n",
    "Link to current SOAP pdf\n",
    "\n",
    "Tell us what properties you want"
   ]
  },
  {
   "cell_type": "markdown",
   "id": "37be5032-9190-49ed-815a-264191214464",
   "metadata": {},
   "source": [
    "# SWIFT galaxy"
   ]
  },
  {
   "cell_type": "code",
   "execution_count": null,
   "id": "81431fab-9d70-47cd-a302-2d32fc9291d0",
   "metadata": {},
   "outputs": [],
   "source": []
  }
 ],
 "metadata": {
  "kernelspec": {
   "display_name": "Python 3 (ipykernel)",
   "language": "python",
   "name": "python3"
  },
  "language_info": {
   "codemirror_mode": {
    "name": "ipython",
    "version": 3
   },
   "file_extension": ".py",
   "mimetype": "text/x-python",
   "name": "python",
   "nbconvert_exporter": "python",
   "pygments_lexer": "ipython3",
   "version": "3.12.4"
  }
 },
 "nbformat": 4,
 "nbformat_minor": 5
}
